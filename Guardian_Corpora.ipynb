{
 "cells": [
  {
   "cell_type": "markdown",
   "id": "46177304-7b49-4a04-9a19-995df4172f5e",
   "metadata": {
    "tags": []
   },
   "source": [
    "# The Guardian "
   ]
  },
  {
   "cell_type": "code",
   "execution_count": 1,
   "id": "3facd67d-34cb-4019-9e1b-8e824aa4ff9d",
   "metadata": {},
   "outputs": [],
   "source": [
    "import pandas as pd\n",
    "import requests\n",
    "import spacy"
   ]
  },
  {
   "cell_type": "markdown",
   "id": "fccb8a98-16f6-4efd-ad66-0ad3c714b596",
   "metadata": {},
   "source": [
    "## Scrape the Data from API"
   ]
  },
  {
   "cell_type": "markdown",
   "id": "8b19fbde-ccfc-42de-bd7a-e17a65ec981e",
   "metadata": {},
   "source": [
    "We will use free [The Guardian API](https://open-platform.theguardian.com/explore/). We want to scrape all the articles under the \"World\" section in 2022 and we define the URL."
   ]
  },
  {
   "cell_type": "markdown",
   "id": "1493d184-00a5-4485-b0bf-4b1b38384f65",
   "metadata": {
    "tags": []
   },
   "source": [
    "### Define URL"
   ]
  },
  {
   "cell_type": "markdown",
   "id": "f1fc16b5-7c40-448b-95c4-a0a562eecdfb",
   "metadata": {},
   "source": [
    "Based on the API link, first we can use variables to generate date list of 2022 'https://content.guardianapis.com/world?{randomDate}&show-tags=all&show-blocks=all&page-size=10&api-key=4c043d21-d53e-4a99-a6f3-1a08745b7575' \n"
   ]
  },
  {
   "cell_type": "code",
   "execution_count": 40,
   "id": "43756200-d685-47e5-8dbe-84f2fd097030",
   "metadata": {},
   "outputs": [
    {
     "data": {
      "text/plain": [
       "['https://content.guardianapis.com/world?from-date=2022-01-01&to-date=2022-01-31&show-tags=all&show-blocks=all&page-size=10&api-key=4c043d21-d53e-4a99-a6f3-1a08745b7575',\n",
       " 'https://content.guardianapis.com/world?from-date=2022-02-01&to-date=2022-02-28&show-tags=all&show-blocks=all&page-size=10&api-key=4c043d21-d53e-4a99-a6f3-1a08745b7575',\n",
       " 'https://content.guardianapis.com/world?from-date=2022-03-01&to-date=2022-03-31&show-tags=all&show-blocks=all&page-size=10&api-key=4c043d21-d53e-4a99-a6f3-1a08745b7575',\n",
       " 'https://content.guardianapis.com/world?from-date=2022-04-01&to-date=2022-04-30&show-tags=all&show-blocks=all&page-size=10&api-key=4c043d21-d53e-4a99-a6f3-1a08745b7575',\n",
       " 'https://content.guardianapis.com/world?from-date=2022-05-01&to-date=2022-05-31&show-tags=all&show-blocks=all&page-size=10&api-key=4c043d21-d53e-4a99-a6f3-1a08745b7575',\n",
       " 'https://content.guardianapis.com/world?from-date=2022-06-01&to-date=2022-06-30&show-tags=all&show-blocks=all&page-size=10&api-key=4c043d21-d53e-4a99-a6f3-1a08745b7575',\n",
       " 'https://content.guardianapis.com/world?from-date=2022-07-01&to-date=2022-07-31&show-tags=all&show-blocks=all&page-size=10&api-key=4c043d21-d53e-4a99-a6f3-1a08745b7575',\n",
       " 'https://content.guardianapis.com/world?from-date=2022-08-01&to-date=2022-08-31&show-tags=all&show-blocks=all&page-size=10&api-key=4c043d21-d53e-4a99-a6f3-1a08745b7575',\n",
       " 'https://content.guardianapis.com/world?from-date=2022-09-01&to-date=2022-09-30&show-tags=all&show-blocks=all&page-size=10&api-key=4c043d21-d53e-4a99-a6f3-1a08745b7575',\n",
       " 'https://content.guardianapis.com/world?from-date=2022-10-01&to-date=2022-10-31&show-tags=all&show-blocks=all&page-size=10&api-key=4c043d21-d53e-4a99-a6f3-1a08745b7575',\n",
       " 'https://content.guardianapis.com/world?from-date=2022-11-01&to-date=2022-11-30&show-tags=all&show-blocks=all&page-size=10&api-key=4c043d21-d53e-4a99-a6f3-1a08745b7575',\n",
       " 'https://content.guardianapis.com/world?from-date=2022-12-01&to-date=2022-12-31&show-tags=all&show-blocks=all&page-size=10&api-key=4c043d21-d53e-4a99-a6f3-1a08745b7575']"
      ]
     },
     "execution_count": 40,
     "metadata": {},
     "output_type": "execute_result"
    }
   ],
   "source": [
    "# World Newa, 202201, concatenation of month\n",
    "from datetime import datetime, timedelta\n",
    "\n",
    "# Define the start and end dates\n",
    "start_date = datetime(2022, 1, 1)\n",
    "end_date = datetime(2022, 12, 31)\n",
    "\n",
    "# generate monthly date ranges\n",
    "def generate_monthly_ranges(start_date, end_date):\n",
    "    current_date = start_date\n",
    "    date_ranges = []\n",
    "    \n",
    "    while current_date <= end_date:\n",
    "        next_month = current_date.replace(day=1) + timedelta(days=32)\n",
    "        first_day_of_next_month = next_month.replace(day=1)\n",
    "        last_day_of_month = (first_day_of_next_month - timedelta(days=1))\n",
    "        \n",
    "        date_ranges.append(\n",
    "            f\"from-date={current_date.strftime('%Y-%m-%d')}&to-date={last_day_of_month.strftime('%Y-%m-%d')}\"\n",
    "        )\n",
    "        \n",
    "        current_date = first_day_of_next_month\n",
    "    \n",
    "    return date_ranges\n",
    "\n",
    "# Generate and print date ranges for each month\n",
    "dateList = generate_monthly_ranges(start_date, end_date)\n",
    "\n",
    "#print(dateList)\n",
    "\n",
    "url_without_date = 'https://content.guardianapis.com/world?{randomDate}&show-tags=all&show-blocks=all&page-size=10&api-key=4c043d21-d53e-4a99-a6f3-1a08745b7575'\n",
    "url_with_date = []\n",
    "for date in dateList:\n",
    "    newUrl = url_without_date.format(randomDate = date)\n",
    "    url_with_date.append(newUrl)\n",
    "url_with_date"
   ]
  },
  {
   "cell_type": "markdown",
   "id": "8f345c66-1e47-4918-bcd5-711e42960c18",
   "metadata": {},
   "source": [
    "We have decided to scrape 100 articles per month, adhering to the API rules, which provide data per page with a limit of 10 articles. Consequently, for each month, we aim to scrape 10 pages. However, it's worth noting that the last page of the month may not always contain 10 articles. To address the issue of unequal sample sizes, we exclude the last page of each month during the selection process. For example, the last page in April only had 4 articles."
   ]
  },
  {
   "cell_type": "code",
   "execution_count": 47,
   "id": "8390cd15-d6ab-4263-982d-5384b94ecf8d",
   "metadata": {},
   "outputs": [
    {
     "data": {
      "text/plain": [
       "['https://content.guardianapis.com/world?from-date=2022-01-01&to-date=2022-01-31&show-tags=all&show-blocks=all&page-size=10&api-key=4c043d21-d53e-4a99-a6f3-1a08745b7575&page=46',\n",
       " 'https://content.guardianapis.com/world?from-date=2022-01-01&to-date=2022-01-31&show-tags=all&show-blocks=all&page-size=10&api-key=4c043d21-d53e-4a99-a6f3-1a08745b7575&page=10',\n",
       " 'https://content.guardianapis.com/world?from-date=2022-01-01&to-date=2022-01-31&show-tags=all&show-blocks=all&page-size=10&api-key=4c043d21-d53e-4a99-a6f3-1a08745b7575&page=22',\n",
       " 'https://content.guardianapis.com/world?from-date=2022-01-01&to-date=2022-01-31&show-tags=all&show-blocks=all&page-size=10&api-key=4c043d21-d53e-4a99-a6f3-1a08745b7575&page=14',\n",
       " 'https://content.guardianapis.com/world?from-date=2022-01-01&to-date=2022-01-31&show-tags=all&show-blocks=all&page-size=10&api-key=4c043d21-d53e-4a99-a6f3-1a08745b7575&page=72',\n",
       " 'https://content.guardianapis.com/world?from-date=2022-01-01&to-date=2022-01-31&show-tags=all&show-blocks=all&page-size=10&api-key=4c043d21-d53e-4a99-a6f3-1a08745b7575&page=34',\n",
       " 'https://content.guardianapis.com/world?from-date=2022-01-01&to-date=2022-01-31&show-tags=all&show-blocks=all&page-size=10&api-key=4c043d21-d53e-4a99-a6f3-1a08745b7575&page=28',\n",
       " 'https://content.guardianapis.com/world?from-date=2022-01-01&to-date=2022-01-31&show-tags=all&show-blocks=all&page-size=10&api-key=4c043d21-d53e-4a99-a6f3-1a08745b7575&page=56',\n",
       " 'https://content.guardianapis.com/world?from-date=2022-01-01&to-date=2022-01-31&show-tags=all&show-blocks=all&page-size=10&api-key=4c043d21-d53e-4a99-a6f3-1a08745b7575&page=47',\n",
       " 'https://content.guardianapis.com/world?from-date=2022-01-01&to-date=2022-01-31&show-tags=all&show-blocks=all&page-size=10&api-key=4c043d21-d53e-4a99-a6f3-1a08745b7575&page=55',\n",
       " 'https://content.guardianapis.com/world?from-date=2022-02-01&to-date=2022-02-28&show-tags=all&show-blocks=all&page-size=10&api-key=4c043d21-d53e-4a99-a6f3-1a08745b7575&page=47',\n",
       " 'https://content.guardianapis.com/world?from-date=2022-02-01&to-date=2022-02-28&show-tags=all&show-blocks=all&page-size=10&api-key=4c043d21-d53e-4a99-a6f3-1a08745b7575&page=14',\n",
       " 'https://content.guardianapis.com/world?from-date=2022-02-01&to-date=2022-02-28&show-tags=all&show-blocks=all&page-size=10&api-key=4c043d21-d53e-4a99-a6f3-1a08745b7575&page=54',\n",
       " 'https://content.guardianapis.com/world?from-date=2022-02-01&to-date=2022-02-28&show-tags=all&show-blocks=all&page-size=10&api-key=4c043d21-d53e-4a99-a6f3-1a08745b7575&page=52',\n",
       " 'https://content.guardianapis.com/world?from-date=2022-02-01&to-date=2022-02-28&show-tags=all&show-blocks=all&page-size=10&api-key=4c043d21-d53e-4a99-a6f3-1a08745b7575&page=1',\n",
       " 'https://content.guardianapis.com/world?from-date=2022-02-01&to-date=2022-02-28&show-tags=all&show-blocks=all&page-size=10&api-key=4c043d21-d53e-4a99-a6f3-1a08745b7575&page=49',\n",
       " 'https://content.guardianapis.com/world?from-date=2022-02-01&to-date=2022-02-28&show-tags=all&show-blocks=all&page-size=10&api-key=4c043d21-d53e-4a99-a6f3-1a08745b7575&page=29',\n",
       " 'https://content.guardianapis.com/world?from-date=2022-02-01&to-date=2022-02-28&show-tags=all&show-blocks=all&page-size=10&api-key=4c043d21-d53e-4a99-a6f3-1a08745b7575&page=58',\n",
       " 'https://content.guardianapis.com/world?from-date=2022-02-01&to-date=2022-02-28&show-tags=all&show-blocks=all&page-size=10&api-key=4c043d21-d53e-4a99-a6f3-1a08745b7575&page=74',\n",
       " 'https://content.guardianapis.com/world?from-date=2022-02-01&to-date=2022-02-28&show-tags=all&show-blocks=all&page-size=10&api-key=4c043d21-d53e-4a99-a6f3-1a08745b7575&page=9',\n",
       " 'https://content.guardianapis.com/world?from-date=2022-03-01&to-date=2022-03-31&show-tags=all&show-blocks=all&page-size=10&api-key=4c043d21-d53e-4a99-a6f3-1a08745b7575&page=43',\n",
       " 'https://content.guardianapis.com/world?from-date=2022-03-01&to-date=2022-03-31&show-tags=all&show-blocks=all&page-size=10&api-key=4c043d21-d53e-4a99-a6f3-1a08745b7575&page=53',\n",
       " 'https://content.guardianapis.com/world?from-date=2022-03-01&to-date=2022-03-31&show-tags=all&show-blocks=all&page-size=10&api-key=4c043d21-d53e-4a99-a6f3-1a08745b7575&page=96',\n",
       " 'https://content.guardianapis.com/world?from-date=2022-03-01&to-date=2022-03-31&show-tags=all&show-blocks=all&page-size=10&api-key=4c043d21-d53e-4a99-a6f3-1a08745b7575&page=24',\n",
       " 'https://content.guardianapis.com/world?from-date=2022-03-01&to-date=2022-03-31&show-tags=all&show-blocks=all&page-size=10&api-key=4c043d21-d53e-4a99-a6f3-1a08745b7575&page=15',\n",
       " 'https://content.guardianapis.com/world?from-date=2022-03-01&to-date=2022-03-31&show-tags=all&show-blocks=all&page-size=10&api-key=4c043d21-d53e-4a99-a6f3-1a08745b7575&page=78',\n",
       " 'https://content.guardianapis.com/world?from-date=2022-03-01&to-date=2022-03-31&show-tags=all&show-blocks=all&page-size=10&api-key=4c043d21-d53e-4a99-a6f3-1a08745b7575&page=56',\n",
       " 'https://content.guardianapis.com/world?from-date=2022-03-01&to-date=2022-03-31&show-tags=all&show-blocks=all&page-size=10&api-key=4c043d21-d53e-4a99-a6f3-1a08745b7575&page=76',\n",
       " 'https://content.guardianapis.com/world?from-date=2022-03-01&to-date=2022-03-31&show-tags=all&show-blocks=all&page-size=10&api-key=4c043d21-d53e-4a99-a6f3-1a08745b7575&page=59',\n",
       " 'https://content.guardianapis.com/world?from-date=2022-03-01&to-date=2022-03-31&show-tags=all&show-blocks=all&page-size=10&api-key=4c043d21-d53e-4a99-a6f3-1a08745b7575&page=82',\n",
       " 'https://content.guardianapis.com/world?from-date=2022-04-01&to-date=2022-04-30&show-tags=all&show-blocks=all&page-size=10&api-key=4c043d21-d53e-4a99-a6f3-1a08745b7575&page=74',\n",
       " 'https://content.guardianapis.com/world?from-date=2022-04-01&to-date=2022-04-30&show-tags=all&show-blocks=all&page-size=10&api-key=4c043d21-d53e-4a99-a6f3-1a08745b7575&page=43',\n",
       " 'https://content.guardianapis.com/world?from-date=2022-04-01&to-date=2022-04-30&show-tags=all&show-blocks=all&page-size=10&api-key=4c043d21-d53e-4a99-a6f3-1a08745b7575&page=12',\n",
       " 'https://content.guardianapis.com/world?from-date=2022-04-01&to-date=2022-04-30&show-tags=all&show-blocks=all&page-size=10&api-key=4c043d21-d53e-4a99-a6f3-1a08745b7575&page=42',\n",
       " 'https://content.guardianapis.com/world?from-date=2022-04-01&to-date=2022-04-30&show-tags=all&show-blocks=all&page-size=10&api-key=4c043d21-d53e-4a99-a6f3-1a08745b7575&page=64',\n",
       " 'https://content.guardianapis.com/world?from-date=2022-04-01&to-date=2022-04-30&show-tags=all&show-blocks=all&page-size=10&api-key=4c043d21-d53e-4a99-a6f3-1a08745b7575&page=22',\n",
       " 'https://content.guardianapis.com/world?from-date=2022-04-01&to-date=2022-04-30&show-tags=all&show-blocks=all&page-size=10&api-key=4c043d21-d53e-4a99-a6f3-1a08745b7575&page=29',\n",
       " 'https://content.guardianapis.com/world?from-date=2022-04-01&to-date=2022-04-30&show-tags=all&show-blocks=all&page-size=10&api-key=4c043d21-d53e-4a99-a6f3-1a08745b7575&page=9',\n",
       " 'https://content.guardianapis.com/world?from-date=2022-04-01&to-date=2022-04-30&show-tags=all&show-blocks=all&page-size=10&api-key=4c043d21-d53e-4a99-a6f3-1a08745b7575&page=78',\n",
       " 'https://content.guardianapis.com/world?from-date=2022-04-01&to-date=2022-04-30&show-tags=all&show-blocks=all&page-size=10&api-key=4c043d21-d53e-4a99-a6f3-1a08745b7575&page=35',\n",
       " 'https://content.guardianapis.com/world?from-date=2022-05-01&to-date=2022-05-31&show-tags=all&show-blocks=all&page-size=10&api-key=4c043d21-d53e-4a99-a6f3-1a08745b7575&page=55',\n",
       " 'https://content.guardianapis.com/world?from-date=2022-05-01&to-date=2022-05-31&show-tags=all&show-blocks=all&page-size=10&api-key=4c043d21-d53e-4a99-a6f3-1a08745b7575&page=24',\n",
       " 'https://content.guardianapis.com/world?from-date=2022-05-01&to-date=2022-05-31&show-tags=all&show-blocks=all&page-size=10&api-key=4c043d21-d53e-4a99-a6f3-1a08745b7575&page=19',\n",
       " 'https://content.guardianapis.com/world?from-date=2022-05-01&to-date=2022-05-31&show-tags=all&show-blocks=all&page-size=10&api-key=4c043d21-d53e-4a99-a6f3-1a08745b7575&page=58',\n",
       " 'https://content.guardianapis.com/world?from-date=2022-05-01&to-date=2022-05-31&show-tags=all&show-blocks=all&page-size=10&api-key=4c043d21-d53e-4a99-a6f3-1a08745b7575&page=35',\n",
       " 'https://content.guardianapis.com/world?from-date=2022-05-01&to-date=2022-05-31&show-tags=all&show-blocks=all&page-size=10&api-key=4c043d21-d53e-4a99-a6f3-1a08745b7575&page=36',\n",
       " 'https://content.guardianapis.com/world?from-date=2022-05-01&to-date=2022-05-31&show-tags=all&show-blocks=all&page-size=10&api-key=4c043d21-d53e-4a99-a6f3-1a08745b7575&page=38',\n",
       " 'https://content.guardianapis.com/world?from-date=2022-05-01&to-date=2022-05-31&show-tags=all&show-blocks=all&page-size=10&api-key=4c043d21-d53e-4a99-a6f3-1a08745b7575&page=42',\n",
       " 'https://content.guardianapis.com/world?from-date=2022-05-01&to-date=2022-05-31&show-tags=all&show-blocks=all&page-size=10&api-key=4c043d21-d53e-4a99-a6f3-1a08745b7575&page=10',\n",
       " 'https://content.guardianapis.com/world?from-date=2022-05-01&to-date=2022-05-31&show-tags=all&show-blocks=all&page-size=10&api-key=4c043d21-d53e-4a99-a6f3-1a08745b7575&page=73',\n",
       " 'https://content.guardianapis.com/world?from-date=2022-06-01&to-date=2022-06-30&show-tags=all&show-blocks=all&page-size=10&api-key=4c043d21-d53e-4a99-a6f3-1a08745b7575&page=21',\n",
       " 'https://content.guardianapis.com/world?from-date=2022-06-01&to-date=2022-06-30&show-tags=all&show-blocks=all&page-size=10&api-key=4c043d21-d53e-4a99-a6f3-1a08745b7575&page=49',\n",
       " 'https://content.guardianapis.com/world?from-date=2022-06-01&to-date=2022-06-30&show-tags=all&show-blocks=all&page-size=10&api-key=4c043d21-d53e-4a99-a6f3-1a08745b7575&page=33',\n",
       " 'https://content.guardianapis.com/world?from-date=2022-06-01&to-date=2022-06-30&show-tags=all&show-blocks=all&page-size=10&api-key=4c043d21-d53e-4a99-a6f3-1a08745b7575&page=58',\n",
       " 'https://content.guardianapis.com/world?from-date=2022-06-01&to-date=2022-06-30&show-tags=all&show-blocks=all&page-size=10&api-key=4c043d21-d53e-4a99-a6f3-1a08745b7575&page=14',\n",
       " 'https://content.guardianapis.com/world?from-date=2022-06-01&to-date=2022-06-30&show-tags=all&show-blocks=all&page-size=10&api-key=4c043d21-d53e-4a99-a6f3-1a08745b7575&page=11',\n",
       " 'https://content.guardianapis.com/world?from-date=2022-06-01&to-date=2022-06-30&show-tags=all&show-blocks=all&page-size=10&api-key=4c043d21-d53e-4a99-a6f3-1a08745b7575&page=69',\n",
       " 'https://content.guardianapis.com/world?from-date=2022-06-01&to-date=2022-06-30&show-tags=all&show-blocks=all&page-size=10&api-key=4c043d21-d53e-4a99-a6f3-1a08745b7575&page=68',\n",
       " 'https://content.guardianapis.com/world?from-date=2022-06-01&to-date=2022-06-30&show-tags=all&show-blocks=all&page-size=10&api-key=4c043d21-d53e-4a99-a6f3-1a08745b7575&page=60',\n",
       " 'https://content.guardianapis.com/world?from-date=2022-06-01&to-date=2022-06-30&show-tags=all&show-blocks=all&page-size=10&api-key=4c043d21-d53e-4a99-a6f3-1a08745b7575&page=28',\n",
       " 'https://content.guardianapis.com/world?from-date=2022-07-01&to-date=2022-07-31&show-tags=all&show-blocks=all&page-size=10&api-key=4c043d21-d53e-4a99-a6f3-1a08745b7575&page=58',\n",
       " 'https://content.guardianapis.com/world?from-date=2022-07-01&to-date=2022-07-31&show-tags=all&show-blocks=all&page-size=10&api-key=4c043d21-d53e-4a99-a6f3-1a08745b7575&page=1',\n",
       " 'https://content.guardianapis.com/world?from-date=2022-07-01&to-date=2022-07-31&show-tags=all&show-blocks=all&page-size=10&api-key=4c043d21-d53e-4a99-a6f3-1a08745b7575&page=29',\n",
       " 'https://content.guardianapis.com/world?from-date=2022-07-01&to-date=2022-07-31&show-tags=all&show-blocks=all&page-size=10&api-key=4c043d21-d53e-4a99-a6f3-1a08745b7575&page=9',\n",
       " 'https://content.guardianapis.com/world?from-date=2022-07-01&to-date=2022-07-31&show-tags=all&show-blocks=all&page-size=10&api-key=4c043d21-d53e-4a99-a6f3-1a08745b7575&page=19',\n",
       " 'https://content.guardianapis.com/world?from-date=2022-07-01&to-date=2022-07-31&show-tags=all&show-blocks=all&page-size=10&api-key=4c043d21-d53e-4a99-a6f3-1a08745b7575&page=48',\n",
       " 'https://content.guardianapis.com/world?from-date=2022-07-01&to-date=2022-07-31&show-tags=all&show-blocks=all&page-size=10&api-key=4c043d21-d53e-4a99-a6f3-1a08745b7575&page=54',\n",
       " 'https://content.guardianapis.com/world?from-date=2022-07-01&to-date=2022-07-31&show-tags=all&show-blocks=all&page-size=10&api-key=4c043d21-d53e-4a99-a6f3-1a08745b7575&page=17',\n",
       " 'https://content.guardianapis.com/world?from-date=2022-07-01&to-date=2022-07-31&show-tags=all&show-blocks=all&page-size=10&api-key=4c043d21-d53e-4a99-a6f3-1a08745b7575&page=33',\n",
       " 'https://content.guardianapis.com/world?from-date=2022-07-01&to-date=2022-07-31&show-tags=all&show-blocks=all&page-size=10&api-key=4c043d21-d53e-4a99-a6f3-1a08745b7575&page=15',\n",
       " 'https://content.guardianapis.com/world?from-date=2022-08-01&to-date=2022-08-31&show-tags=all&show-blocks=all&page-size=10&api-key=4c043d21-d53e-4a99-a6f3-1a08745b7575&page=4',\n",
       " 'https://content.guardianapis.com/world?from-date=2022-08-01&to-date=2022-08-31&show-tags=all&show-blocks=all&page-size=10&api-key=4c043d21-d53e-4a99-a6f3-1a08745b7575&page=56',\n",
       " 'https://content.guardianapis.com/world?from-date=2022-08-01&to-date=2022-08-31&show-tags=all&show-blocks=all&page-size=10&api-key=4c043d21-d53e-4a99-a6f3-1a08745b7575&page=59',\n",
       " 'https://content.guardianapis.com/world?from-date=2022-08-01&to-date=2022-08-31&show-tags=all&show-blocks=all&page-size=10&api-key=4c043d21-d53e-4a99-a6f3-1a08745b7575&page=6',\n",
       " 'https://content.guardianapis.com/world?from-date=2022-08-01&to-date=2022-08-31&show-tags=all&show-blocks=all&page-size=10&api-key=4c043d21-d53e-4a99-a6f3-1a08745b7575&page=5',\n",
       " 'https://content.guardianapis.com/world?from-date=2022-08-01&to-date=2022-08-31&show-tags=all&show-blocks=all&page-size=10&api-key=4c043d21-d53e-4a99-a6f3-1a08745b7575&page=38',\n",
       " 'https://content.guardianapis.com/world?from-date=2022-08-01&to-date=2022-08-31&show-tags=all&show-blocks=all&page-size=10&api-key=4c043d21-d53e-4a99-a6f3-1a08745b7575&page=9',\n",
       " 'https://content.guardianapis.com/world?from-date=2022-08-01&to-date=2022-08-31&show-tags=all&show-blocks=all&page-size=10&api-key=4c043d21-d53e-4a99-a6f3-1a08745b7575&page=72',\n",
       " 'https://content.guardianapis.com/world?from-date=2022-08-01&to-date=2022-08-31&show-tags=all&show-blocks=all&page-size=10&api-key=4c043d21-d53e-4a99-a6f3-1a08745b7575&page=58',\n",
       " 'https://content.guardianapis.com/world?from-date=2022-08-01&to-date=2022-08-31&show-tags=all&show-blocks=all&page-size=10&api-key=4c043d21-d53e-4a99-a6f3-1a08745b7575&page=75',\n",
       " 'https://content.guardianapis.com/world?from-date=2022-09-01&to-date=2022-09-30&show-tags=all&show-blocks=all&page-size=10&api-key=4c043d21-d53e-4a99-a6f3-1a08745b7575&page=29',\n",
       " 'https://content.guardianapis.com/world?from-date=2022-09-01&to-date=2022-09-30&show-tags=all&show-blocks=all&page-size=10&api-key=4c043d21-d53e-4a99-a6f3-1a08745b7575&page=58',\n",
       " 'https://content.guardianapis.com/world?from-date=2022-09-01&to-date=2022-09-30&show-tags=all&show-blocks=all&page-size=10&api-key=4c043d21-d53e-4a99-a6f3-1a08745b7575&page=65',\n",
       " 'https://content.guardianapis.com/world?from-date=2022-09-01&to-date=2022-09-30&show-tags=all&show-blocks=all&page-size=10&api-key=4c043d21-d53e-4a99-a6f3-1a08745b7575&page=36',\n",
       " 'https://content.guardianapis.com/world?from-date=2022-09-01&to-date=2022-09-30&show-tags=all&show-blocks=all&page-size=10&api-key=4c043d21-d53e-4a99-a6f3-1a08745b7575&page=34',\n",
       " 'https://content.guardianapis.com/world?from-date=2022-09-01&to-date=2022-09-30&show-tags=all&show-blocks=all&page-size=10&api-key=4c043d21-d53e-4a99-a6f3-1a08745b7575&page=16',\n",
       " 'https://content.guardianapis.com/world?from-date=2022-09-01&to-date=2022-09-30&show-tags=all&show-blocks=all&page-size=10&api-key=4c043d21-d53e-4a99-a6f3-1a08745b7575&page=1',\n",
       " 'https://content.guardianapis.com/world?from-date=2022-09-01&to-date=2022-09-30&show-tags=all&show-blocks=all&page-size=10&api-key=4c043d21-d53e-4a99-a6f3-1a08745b7575&page=43',\n",
       " 'https://content.guardianapis.com/world?from-date=2022-09-01&to-date=2022-09-30&show-tags=all&show-blocks=all&page-size=10&api-key=4c043d21-d53e-4a99-a6f3-1a08745b7575&page=11',\n",
       " 'https://content.guardianapis.com/world?from-date=2022-09-01&to-date=2022-09-30&show-tags=all&show-blocks=all&page-size=10&api-key=4c043d21-d53e-4a99-a6f3-1a08745b7575&page=21',\n",
       " 'https://content.guardianapis.com/world?from-date=2022-10-01&to-date=2022-10-31&show-tags=all&show-blocks=all&page-size=10&api-key=4c043d21-d53e-4a99-a6f3-1a08745b7575&page=2',\n",
       " 'https://content.guardianapis.com/world?from-date=2022-10-01&to-date=2022-10-31&show-tags=all&show-blocks=all&page-size=10&api-key=4c043d21-d53e-4a99-a6f3-1a08745b7575&page=17',\n",
       " 'https://content.guardianapis.com/world?from-date=2022-10-01&to-date=2022-10-31&show-tags=all&show-blocks=all&page-size=10&api-key=4c043d21-d53e-4a99-a6f3-1a08745b7575&page=65',\n",
       " 'https://content.guardianapis.com/world?from-date=2022-10-01&to-date=2022-10-31&show-tags=all&show-blocks=all&page-size=10&api-key=4c043d21-d53e-4a99-a6f3-1a08745b7575&page=21',\n",
       " 'https://content.guardianapis.com/world?from-date=2022-10-01&to-date=2022-10-31&show-tags=all&show-blocks=all&page-size=10&api-key=4c043d21-d53e-4a99-a6f3-1a08745b7575&page=54',\n",
       " 'https://content.guardianapis.com/world?from-date=2022-10-01&to-date=2022-10-31&show-tags=all&show-blocks=all&page-size=10&api-key=4c043d21-d53e-4a99-a6f3-1a08745b7575&page=20',\n",
       " 'https://content.guardianapis.com/world?from-date=2022-10-01&to-date=2022-10-31&show-tags=all&show-blocks=all&page-size=10&api-key=4c043d21-d53e-4a99-a6f3-1a08745b7575&page=67',\n",
       " 'https://content.guardianapis.com/world?from-date=2022-10-01&to-date=2022-10-31&show-tags=all&show-blocks=all&page-size=10&api-key=4c043d21-d53e-4a99-a6f3-1a08745b7575&page=42',\n",
       " 'https://content.guardianapis.com/world?from-date=2022-10-01&to-date=2022-10-31&show-tags=all&show-blocks=all&page-size=10&api-key=4c043d21-d53e-4a99-a6f3-1a08745b7575&page=12',\n",
       " 'https://content.guardianapis.com/world?from-date=2022-10-01&to-date=2022-10-31&show-tags=all&show-blocks=all&page-size=10&api-key=4c043d21-d53e-4a99-a6f3-1a08745b7575&page=28',\n",
       " 'https://content.guardianapis.com/world?from-date=2022-11-01&to-date=2022-11-30&show-tags=all&show-blocks=all&page-size=10&api-key=4c043d21-d53e-4a99-a6f3-1a08745b7575&page=33',\n",
       " 'https://content.guardianapis.com/world?from-date=2022-11-01&to-date=2022-11-30&show-tags=all&show-blocks=all&page-size=10&api-key=4c043d21-d53e-4a99-a6f3-1a08745b7575&page=64',\n",
       " 'https://content.guardianapis.com/world?from-date=2022-11-01&to-date=2022-11-30&show-tags=all&show-blocks=all&page-size=10&api-key=4c043d21-d53e-4a99-a6f3-1a08745b7575&page=26',\n",
       " 'https://content.guardianapis.com/world?from-date=2022-11-01&to-date=2022-11-30&show-tags=all&show-blocks=all&page-size=10&api-key=4c043d21-d53e-4a99-a6f3-1a08745b7575&page=12',\n",
       " 'https://content.guardianapis.com/world?from-date=2022-11-01&to-date=2022-11-30&show-tags=all&show-blocks=all&page-size=10&api-key=4c043d21-d53e-4a99-a6f3-1a08745b7575&page=43',\n",
       " 'https://content.guardianapis.com/world?from-date=2022-11-01&to-date=2022-11-30&show-tags=all&show-blocks=all&page-size=10&api-key=4c043d21-d53e-4a99-a6f3-1a08745b7575&page=31',\n",
       " 'https://content.guardianapis.com/world?from-date=2022-11-01&to-date=2022-11-30&show-tags=all&show-blocks=all&page-size=10&api-key=4c043d21-d53e-4a99-a6f3-1a08745b7575&page=2',\n",
       " 'https://content.guardianapis.com/world?from-date=2022-11-01&to-date=2022-11-30&show-tags=all&show-blocks=all&page-size=10&api-key=4c043d21-d53e-4a99-a6f3-1a08745b7575&page=20',\n",
       " 'https://content.guardianapis.com/world?from-date=2022-11-01&to-date=2022-11-30&show-tags=all&show-blocks=all&page-size=10&api-key=4c043d21-d53e-4a99-a6f3-1a08745b7575&page=57',\n",
       " 'https://content.guardianapis.com/world?from-date=2022-11-01&to-date=2022-11-30&show-tags=all&show-blocks=all&page-size=10&api-key=4c043d21-d53e-4a99-a6f3-1a08745b7575&page=4',\n",
       " 'https://content.guardianapis.com/world?from-date=2022-12-01&to-date=2022-12-31&show-tags=all&show-blocks=all&page-size=10&api-key=4c043d21-d53e-4a99-a6f3-1a08745b7575&page=60',\n",
       " 'https://content.guardianapis.com/world?from-date=2022-12-01&to-date=2022-12-31&show-tags=all&show-blocks=all&page-size=10&api-key=4c043d21-d53e-4a99-a6f3-1a08745b7575&page=36',\n",
       " 'https://content.guardianapis.com/world?from-date=2022-12-01&to-date=2022-12-31&show-tags=all&show-blocks=all&page-size=10&api-key=4c043d21-d53e-4a99-a6f3-1a08745b7575&page=42',\n",
       " 'https://content.guardianapis.com/world?from-date=2022-12-01&to-date=2022-12-31&show-tags=all&show-blocks=all&page-size=10&api-key=4c043d21-d53e-4a99-a6f3-1a08745b7575&page=40',\n",
       " 'https://content.guardianapis.com/world?from-date=2022-12-01&to-date=2022-12-31&show-tags=all&show-blocks=all&page-size=10&api-key=4c043d21-d53e-4a99-a6f3-1a08745b7575&page=24',\n",
       " 'https://content.guardianapis.com/world?from-date=2022-12-01&to-date=2022-12-31&show-tags=all&show-blocks=all&page-size=10&api-key=4c043d21-d53e-4a99-a6f3-1a08745b7575&page=47',\n",
       " 'https://content.guardianapis.com/world?from-date=2022-12-01&to-date=2022-12-31&show-tags=all&show-blocks=all&page-size=10&api-key=4c043d21-d53e-4a99-a6f3-1a08745b7575&page=1',\n",
       " 'https://content.guardianapis.com/world?from-date=2022-12-01&to-date=2022-12-31&show-tags=all&show-blocks=all&page-size=10&api-key=4c043d21-d53e-4a99-a6f3-1a08745b7575&page=44',\n",
       " 'https://content.guardianapis.com/world?from-date=2022-12-01&to-date=2022-12-31&show-tags=all&show-blocks=all&page-size=10&api-key=4c043d21-d53e-4a99-a6f3-1a08745b7575&page=49',\n",
       " 'https://content.guardianapis.com/world?from-date=2022-12-01&to-date=2022-12-31&show-tags=all&show-blocks=all&page-size=10&api-key=4c043d21-d53e-4a99-a6f3-1a08745b7575&page=14']"
      ]
     },
     "execution_count": 47,
     "metadata": {},
     "output_type": "execute_result"
    }
   ],
   "source": [
    "# World Newa, 202201, concatenation of page\n",
    "import random\n",
    "url_full = []\n",
    "for url in url_with_date:\n",
    "    response=requests.get(url)\n",
    "    x = response.json()\n",
    "    total_pages = x['response']['pages']\n",
    "    random_pages = random.sample(range(1, total_pages - 1), 10)\n",
    "    for page in random_pages:\n",
    "        url_with_page = url + '&page=' + str(page)\n",
    "        url_full.append(url_with_page)\n",
    "url_full"
   ]
  },
  {
   "cell_type": "code",
   "execution_count": 4,
   "id": "93eeb9b0-c7c3-4698-bd20-ea6bd7acce86",
   "metadata": {},
   "outputs": [],
   "source": [
    "# eg\n",
    "url=\"https://content.guardianapis.com/search?section=world&from-date=2023-11-01&show-blocks=all&api-key=4c043d21-d53e-4a99-a6f3-1a08745b7575&page=\""
   ]
  },
  {
   "cell_type": "code",
   "execution_count": 32,
   "id": "825b6b37-e824-4b59-a5ac-3ff2168514f2",
   "metadata": {},
   "outputs": [],
   "source": [
    "# test: World News, 202201-202301 = 35814\n",
    "url = 'https://content.guardianapis.com/search?q=world&from-date=2022-01-01&to-date=2023-01-01&api-key=4c043d21-d53e-4a99-a6f3-1a08745b7575'"
   ]
  },
  {
   "cell_type": "code",
   "execution_count": 31,
   "id": "dda13b8e-c9ad-48b1-888f-9a967102518d",
   "metadata": {},
   "outputs": [],
   "source": [
    "# test: World Newa, 202201\n",
    "url = 'https://content.guardianapis.com/search?section=world&from-date=2022-01-01&to-date=2022-01-31&show-tags=all&show-fields=all&api-key=4c043d21-d53e-4a99-a6f3-1a08745b7575'"
   ]
  },
  {
   "cell_type": "code",
   "execution_count": 15,
   "id": "85438f73-dd98-4ef2-81dc-f2f8aaa1501d",
   "metadata": {},
   "outputs": [],
   "source": [
    "# test: World Newa, 202201, 拼接\n",
    "url = 'https://content.guardianapis.com/world?from-date=2022-01-01&to-date=2022-01-31&page-size=10&api-key=4c043d21-d53e-4a99-a6f3-1a08745b7575&page='"
   ]
  },
  {
   "cell_type": "markdown",
   "id": "07d9daa7-0441-4c9a-9117-2256aba2a34d",
   "metadata": {
    "jp-MarkdownHeadingCollapsed": true,
    "tags": []
   },
   "source": [
    "## Get Texts "
   ]
  },
  {
   "cell_type": "markdown",
   "id": "193857f6-2d4b-4efa-b61d-9ccfa89d987b",
   "metadata": {},
   "source": [
    "Use requests to get all the response from lists of URL and store the responses in list in output"
   ]
  },
  {
   "cell_type": "code",
   "execution_count": 4,
   "id": "434c8ebd-85d4-48e0-96ac-23d04e996cb3",
   "metadata": {},
   "outputs": [],
   "source": [
    "info=[]\n",
    "def json(url1):\n",
    "    response=requests.get(url1)\n",
    "    x=response.json()\n",
    "    info.append(x)"
   ]
  },
  {
   "cell_type": "code",
   "execution_count": 48,
   "id": "256cc10f-62b8-4f5b-8bb6-d50641f52cca",
   "metadata": {},
   "outputs": [],
   "source": [
    "info=[]\n",
    "output=[json(url1) for url1 in url_full]"
   ]
  },
  {
   "cell_type": "markdown",
   "id": "b8315495-d898-47d2-9c97-691b7e31585d",
   "metadata": {},
   "source": [
    "The API provides a wealth of information unrelated to our research. Therefore, we are only extracting the relevant data, including type, web title, section name, web publication date, web URL, tags, and elements. All this data is saved in the 'info' list."
   ]
  },
  {
   "cell_type": "code",
   "execution_count": 49,
   "id": "f305c01f-22bb-4f67-8d9e-2c6bb1185315",
   "metadata": {},
   "outputs": [],
   "source": [
    "extracted_data = [\n",
    "    {\n",
    "        'type': item['type'],\n",
    "        'webTitle': item['webTitle'],\n",
    "        'sectionName': item['sectionName'],\n",
    "        'webPublicationDate': item['webPublicationDate'],\n",
    "        'webUrl': item['webUrl'],\n",
    "        'tags': [\n",
    "            {\n",
    "                'tagTitle': tag['webTitle'],\n",
    "                'tagURL': tag['webUrl'],\n",
    "            }\n",
    "            for tag in item['tags']\n",
    "        ],\n",
    "        'tagCount': len(item['tags']),\n",
    "        'elements': [\n",
    "            {\n",
    "                'id': element['id'],\n",
    "                'bodyTextSummary': element.get('bodyTextSummary', ''),\n",
    "                'lastModifiedDate': element.get('lastModifiedDate', ''),\n",
    "            }\n",
    "            \n",
    "            for item in x['response']['results']\n",
    "            #if 'blocks' in item and 'body' in item['blocks']\n",
    "            for element in item.get('blocks', {}).get('body', [])\n",
    "            #if isinstance(element, dict)  # Check if element is a dictionary\n",
    "            \n",
    "        ],\n",
    "    }\n",
    "    for x in info\n",
    "    if 'results' in x['response']\n",
    "    for item in x['response']['results']\n",
    "]\n",
    "\n",
    "#for i in extracted_data:\n",
    "    #print(i['type'], i['tagCount'], i['webTitle'], '!!!!!!!!!!!!', i['webPublicationDate'], i['webUrl'])\n"
   ]
  },
  {
   "cell_type": "markdown",
   "id": "b6f451e4-229a-4406-baca-5f310a0d9f78",
   "metadata": {
    "tags": []
   },
   "source": [
    "## Save corpus in text files"
   ]
  },
  {
   "cell_type": "markdown",
   "id": "567e116b-9b68-492a-bde6-53fcad1022cf",
   "metadata": {},
   "source": [
    "We intend to use the article title as the filename. Therefore, we need to remove special characters. Additionally, to prevent overwriting, we are employing Counter() to append suffixes to files with the same name."
   ]
  },
  {
   "cell_type": "code",
   "execution_count": 105,
   "id": "aec32f42-494d-4ab8-b7ee-1a59f11d33de",
   "metadata": {},
   "outputs": [
    {
     "name": "stdout",
     "output_type": "stream",
     "text": [
      "Total iterations: 1200\n"
     ]
    }
   ],
   "source": [
    "#save corpus to txt \n",
    "import os\n",
    "from collections import Counter\n",
    "\n",
    "def cleanFilename(filename):\n",
    "    invalid_chars = '<>:\"/\\\\|?*'\n",
    "    for char in invalid_chars:\n",
    "        filename = filename.replace(char, '_')\n",
    "    return filename\n",
    "\n",
    "output_directory = 'Guardian_corpus_txt'\n",
    "file_counts = Counter()\n",
    "iteration_count = 0\n",
    "\n",
    "for line in extracted_data:\n",
    "    base_filename = cleanFilename(line['webTitle'])\n",
    "    extension = '.txt'\n",
    "    filename = base_filename + extension\n",
    "\n",
    "    # Check if the filename already exists\n",
    "    count = file_counts[filename]\n",
    "    while os.path.join(output_directory, filename) in file_names:\n",
    "        # If yes, increment the count and add the suffix\n",
    "        count += 1\n",
    "        filename = f\"{base_filename}-{count}{extension}\"\n",
    "\n",
    "    file_counts[filename] = count\n",
    "    file_names.append(os.path.join(output_directory, filename))\n",
    "\n",
    "    with open(os.path.join(output_directory, filename), 'w', encoding='utf-8') as file:\n",
    "        # Write the data dictionary to the file\n",
    "        file.write(str(line))\n",
    "\n",
    "    iteration_count += 1 \n",
    "\n",
    "print(f\"Total iterations: {iteration_count}\")\n"
   ]
  },
  {
   "cell_type": "markdown",
   "id": "4e4ef007-7a02-4ef9-a17f-5d6e990cfa87",
   "metadata": {
    "tags": []
   },
   "source": [
    "## Data Quality Check"
   ]
  },
  {
   "cell_type": "markdown",
   "id": "4204e892-4c85-4612-9b4b-48ff1ef6c8fa",
   "metadata": {},
   "source": [
    "While collecting data, we encountered instances where the results did not meet our expectations. We invested considerable effort in troubleshooting to identify and address the issues. As the debugging process is omitted from the main sections, we believe it is a valuable experience in data collection. In this section, we will explain how we identified and resolved the problems."
   ]
  },
  {
   "cell_type": "markdown",
   "id": "3b5df894-1d2e-4f43-850d-edae5821edc1",
   "metadata": {
    "jp-MarkdownHeadingCollapsed": true,
    "tags": []
   },
   "source": [
    "### 1. check the amount of articles per month"
   ]
  },
  {
   "cell_type": "markdown",
   "id": "9641d15c-c73f-4993-8b40-9ca234a9bc07",
   "metadata": {},
   "source": [
    "Ideally, we should have a total of 1200 articles. However, we observed that there are only 1194 in total. This discrepancy arose from inadvertently selecting the last page of April, which only contains 4 articles. To ensure a consistent count of 100 articles per month, we write functions to verify the number of articles for each month."
   ]
  },
  {
   "cell_type": "code",
   "execution_count": 50,
   "id": "e0e039b6-79e0-4c0d-8ac3-06403f4bdcf1",
   "metadata": {},
   "outputs": [
    {
     "name": "stdout",
     "output_type": "stream",
     "text": [
      "                                            Filename  \\\n",
      "0  Mystery deepens as owners say Hong Kong floati...   \n",
      "1                          Dom Phillips obituary.txt   \n",
      "\n",
      "                                            Document  \n",
      "0  {'type': 'article', 'webTitle': 'Mystery deepe...  \n",
      "1  {'type': 'article', 'webTitle': 'Dom Phillips ...  \n"
     ]
    }
   ],
   "source": [
    "#test bring into table\n",
    "#print(extracted_data[1])\n",
    "df = pd.DataFrame(extracted_data)\n",
    "df.to_csv('Guardian_corpus.csv', index=False)\n",
    "print(corpus_df.head(2))"
   ]
  },
  {
   "cell_type": "code",
   "execution_count": 51,
   "id": "f5c339dc-c1a9-434f-a0e8-85fa3b00a273",
   "metadata": {},
   "outputs": [
    {
     "name": "stdout",
     "output_type": "stream",
     "text": [
      "Number of unique months: 12\n",
      "\n",
      "Unique months and their counts:\n",
      "2022-01    100\n",
      "2022-02    100\n",
      "2022-03    100\n",
      "2022-04    100\n",
      "2022-05    100\n",
      "2022-06    100\n",
      "2022-07    100\n",
      "2022-08    100\n",
      "2022-09    100\n",
      "2022-10    100\n",
      "2022-11    100\n",
      "2022-12    100\n",
      "Freq: M, Name: month, dtype: int64\n"
     ]
    },
    {
     "name": "stderr",
     "output_type": "stream",
     "text": [
      "D:\\code\\Anaconda3\\lib\\site-packages\\pandas\\core\\arrays\\datetimes.py:1162: UserWarning: Converting to PeriodArray/Index representation will drop timezone information.\n",
      "  warnings.warn(\n"
     ]
    }
   ],
   "source": [
    "# Convert 'webPublicationDate' to datetime object\n",
    "df['webPublicationDate'] = pd.to_datetime(df['webPublicationDate'])\n",
    "\n",
    "# Extract the month from the 'webPublicationDate' column\n",
    "df['month'] = df['webPublicationDate'].dt.to_period('M')\n",
    "\n",
    "# Example: If you have a 'webPublicationDate' column in your DataFrame\n",
    "web_publication_month_counts = df['month'].value_counts()\n",
    "\n",
    "# Display the unique months and their counts\n",
    "print(\"Number of unique months:\", len(web_publication_month_counts))\n",
    "print(\"\\nUnique months and their counts:\")\n",
    "print(web_publication_month_counts)\n"
   ]
  },
  {
   "cell_type": "markdown",
   "id": "514afba6-e283-4c30-baab-75a8d163784b",
   "metadata": {},
   "source": [
    "### 2. Prevent Overwriting"
   ]
  },
  {
   "cell_type": "markdown",
   "id": "41e9cba0-c116-4af3-9284-cc1b55bb1af4",
   "metadata": {},
   "source": [
    "We noticed that the number of text files is 1195, which is less than the expected 1200. After comparing the file names with the dataframe list, we identified the presence of identical web titles, which are used as file names. Consequently, the files were being overwritten.\n",
    "(P.S.: If you run the code now, you will not encounter the same output as we have already addressed and removed the problematic code.)"
   ]
  },
  {
   "cell_type": "code",
   "execution_count": 79,
   "id": "0447697b-a7ca-44ed-9a49-83c60a142e8d",
   "metadata": {},
   "outputs": [
    {
     "data": {
      "text/plain": [
       "1195"
      ]
     },
     "execution_count": 79,
     "metadata": {},
     "output_type": "execute_result"
    }
   ],
   "source": [
    "# count files\n",
    "filename_df['filename'].count()"
   ]
  },
  {
   "cell_type": "code",
   "execution_count": 78,
   "id": "eaa42f5e-efdd-436c-ad79-d44cbc78b3b5",
   "metadata": {},
   "outputs": [
    {
     "data": {
      "text/plain": [
       "1200"
      ]
     },
     "execution_count": 78,
     "metadata": {},
     "output_type": "execute_result"
    }
   ],
   "source": [
    "# count dataframe\n",
    "df['webTitle'].count()"
   ]
  },
  {
   "cell_type": "markdown",
   "id": "a8676f79-0076-4f37-befc-81e3a642d012",
   "metadata": {},
   "source": [
    "Here, we find the rewrite file name. "
   ]
  },
  {
   "cell_type": "code",
   "execution_count": 102,
   "id": "fc1caebd-dadf-4a24-a0a3-0146bfe0fe2d",
   "metadata": {},
   "outputs": [
    {
     "name": "stdout",
     "output_type": "stream",
     "text": [
      "['What happened in the Russia-Ukraine war this week_ Catch up with the must-read news and analysis.txt']\n"
     ]
    }
   ],
   "source": [
    "from collections import Counter\n",
    "len(set(file_names))\n",
    "# Use Counter to count occurrences of each element\n",
    "element_counts = Counter(file_names)\n",
    "# Find repeated elements (elements with count greater than 1)\n",
    "repeated_elements = [element for element, count in element_counts.items() if count > 1]\n",
    "\n",
    "# Print the repeated elements\n",
    "print(repeated_elements)"
   ]
  },
  {
   "cell_type": "markdown",
   "id": "d540eb49-cf34-44dd-9ab5-0356a5005f8f",
   "metadata": {},
   "source": [
    "Since we identified the problem, we added lines of code to verify if the file names are repeated, and we appended a suffix to the repeated ones. The solution is presented in the \"Save Corpus in Text Files\" section."
   ]
  },
  {
   "cell_type": "code",
   "execution_count": 3,
   "id": "f2046e4d-c033-4328-9f17-55a9eedc4756",
   "metadata": {},
   "outputs": [
    {
     "name": "stdout",
     "output_type": "stream",
     "text": [
      "0    {'webTitle': 'Israel-Gaza war live: any attemp...\n",
      "1    {'webTitle': 'Macron confident Orbán can be pe...\n",
      "Name: Tokens, dtype: object\n"
     ]
    }
   ],
   "source": [
    "df = pd.read_csv('Guardian_spacy.csv')\n",
    "df['Token'] = df['Document'].copy()\n",
    "print(df['Token'].head(2))"
   ]
  },
  {
   "cell_type": "code",
   "execution_count": 21,
   "id": "60f883c6-0a53-4873-9319-08c911510e0e",
   "metadata": {},
   "outputs": [
    {
     "name": "stdout",
     "output_type": "stream",
     "text": [
      "0    (webTitle, IsraelGaza, war, live, any, attempt...\n",
      "1    (webTitle, Macron, confident, Orbán, can, be, ...\n",
      "Name: Token, dtype: object\n"
     ]
    }
   ],
   "source": [
    "def get_token(text): \n",
    "    punctuation = '!@#$%^&*()_-+={}[]:;\"\\'|<>,.?/~`'\n",
    "    text = ''.join(character for character in text\n",
    "                   if character not in punctuation)\n",
    "    nlp = spacy.load(\"en_core_web_sm\")\n",
    "    doc = nlp(text)\n",
    "    return doc\n",
    "\n",
    "df['Token'] = df['Document'].apply(get_token)\n",
    "\n",
    "print(df['Token'].head(2))"
   ]
  },
  {
   "cell_type": "code",
   "execution_count": 26,
   "id": "2a62d7ac-4943-48a7-8684-68baf0a6707f",
   "metadata": {},
   "outputs": [
    {
     "name": "stdout",
     "output_type": "stream",
     "text": [
      "0    [webTitle, IsraelGaza, war, live, any, attempt...\n",
      "1    [webTitle, Macron, confident, Orbán, can, be, ...\n",
      "Name: Lemma, dtype: object\n"
     ]
    }
   ],
   "source": [
    "def lemma(text):\n",
    "    return [(token.lemma_) for token in text]\n",
    "df['Lemma'] = df['Token'].apply(lemma)\n",
    "print(df['Lemma'].head(2))"
   ]
  },
  {
   "cell_type": "code",
   "execution_count": 25,
   "id": "21ffe0b5-a6d3-4302-8beb-c967345417bc",
   "metadata": {},
   "outputs": [
    {
     "name": "stdout",
     "output_type": "stream",
     "text": [
      "0    [PROPN, PROPN, NOUN, VERB, DET, NOUN, PART, VE...\n",
      "1    [PROPN, PROPN, ADJ, PROPN, AUX, AUX, VERB, PAR...\n",
      "Name: Pos, dtype: object\n"
     ]
    }
   ],
   "source": [
    "def pos(text):\n",
    "    return [(token.pos_) for token in text]\n",
    "\n",
    "df['Pos'] = df['Token'].apply(pos)\n",
    "print(df['Pos'].head(2))"
   ]
  },
  {
   "cell_type": "code",
   "execution_count": 33,
   "id": "f1e5681b-12ab-41f6-af0c-b3b7dafa53f5",
   "metadata": {},
   "outputs": [
    {
     "name": "stdout",
     "output_type": "stream",
     "text": [
      "                                            Filename  \\\n",
      "0  Israel-Gaza war live_ any attempt to isolate G...   \n",
      "1  Macron confident Orbán can be persuaded to sup...   \n",
      "\n",
      "                                            Document  \\\n",
      "0  {'webTitle': 'Israel-Gaza war live: any attemp...   \n",
      "1  {'webTitle': 'Macron confident Orbán can be pe...   \n",
      "\n",
      "                                               Token  \\\n",
      "0  (webTitle, IsraelGaza, war, live, any, attempt...   \n",
      "1  (webTitle, Macron, confident, Orbán, can, be, ...   \n",
      "\n",
      "                                                 Pos  \\\n",
      "0  [PROPN, PROPN, NOUN, VERB, DET, NOUN, PART, VE...   \n",
      "1  [PROPN, PROPN, ADJ, PROPN, AUX, AUX, VERB, PAR...   \n",
      "\n",
      "                                               Lemma  \n",
      "0  [webTitle, IsraelGaza, war, live, any, attempt...  \n",
      "1  [webTitle, Macron, confident, Orbán, can, be, ...  \n"
     ]
    }
   ],
   "source": [
    "print(df.head(2))"
   ]
  },
  {
   "cell_type": "code",
   "execution_count": 34,
   "id": "6ed5dd7e-9a68-470d-8dc9-763e7cdacf83",
   "metadata": {},
   "outputs": [],
   "source": [
    "df.to_csv('Guardian_pandas_spacy_03.csv', index=False)"
   ]
  }
 ],
 "metadata": {
  "kernelspec": {
   "display_name": "Python 3 (ipykernel)",
   "language": "python",
   "name": "python3"
  },
  "language_info": {
   "codemirror_mode": {
    "name": "ipython",
    "version": 3
   },
   "file_extension": ".py",
   "mimetype": "text/x-python",
   "name": "python",
   "nbconvert_exporter": "python",
   "pygments_lexer": "ipython3",
   "version": "3.9.13"
  }
 },
 "nbformat": 4,
 "nbformat_minor": 5
}
